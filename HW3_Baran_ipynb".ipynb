{
  "nbformat": 4,
  "nbformat_minor": 0,
  "metadata": {
    "colab": {
      "provenance": [],
      "collapsed_sections": [
        "vRciyzvPEDLD"
      ],
      "include_colab_link": true
    },
    "kernelspec": {
      "name": "python3",
      "display_name": "Python 3"
    },
    "language_info": {
      "name": "python"
    },
    "accelerator": "TPU"
  },
  "cells": [
    {
      "cell_type": "markdown",
      "metadata": {
        "id": "view-in-github",
        "colab_type": "text"
      },
      "source": [
        "<a href=\"https://colab.research.google.com/github/PhiiaNec/hse_hw3_chromhmm/blob/main/HW3_Baran_ipynb%22.ipynb\" target=\"_parent\"><img src=\"https://colab.research.google.com/assets/colab-badge.svg\" alt=\"Open In Colab\"/></a>"
      ]
    },
    {
      "cell_type": "markdown",
      "source": [
        "## Устанавливаем java и ChromHmm"
      ],
      "metadata": {
        "id": "vRciyzvPEDLD"
      }
    },
    {
      "cell_type": "code",
      "source": [
        "!curl -O https://raw.githubusercontent.com/deepjavalibrary/d2l-java/master/tools/fix-colab-gpu.sh && bash fix-colab-gpu.sh"
      ],
      "metadata": {
        "colab": {
          "base_uri": "https://localhost:8080/"
        },
        "id": "1O3GJ3Gys7Tm",
        "outputId": "f2aa55fd-822b-4d0b-b2a2-a97603cdc3ae"
      },
      "execution_count": 1,
      "outputs": [
        {
          "output_type": "stream",
          "name": "stdout",
          "text": [
            "  % Total    % Received % Xferd  Average Speed   Time    Time     Time  Current\n",
            "                                 Dload  Upload   Total   Spent    Left  Speed\n",
            "\r  0     0    0     0    0     0      0      0 --:--:-- --:--:-- --:--:--     0\r100   155  100   155    0     0   1033      0 --:--:-- --:--:-- --:--:--  1033\n",
            "fix-colab-gpu.sh: line 5: nvcc: command not found\n"
          ]
        }
      ]
    },
    {
      "cell_type": "code",
      "execution_count": 2,
      "metadata": {
        "colab": {
          "base_uri": "https://localhost:8080/"
        },
        "id": "NxS1Mv5WquOV",
        "outputId": "c7d48a42-1008-4270-f79a-93858e2f2de0"
      },
      "outputs": [
        {
          "output_type": "stream",
          "name": "stdout",
          "text": [
            "  % Total    % Received % Xferd  Average Speed   Time    Time     Time  Current\n",
            "                                 Dload  Upload   Total   Spent    Left  Speed\n",
            "100   520  100   520    0     0    447      0  0:00:01  0:00:01 --:--:--   448\n",
            "Update environment...\n",
            "Install Java...\n",
            "Install Jupyter java kernel...\n"
          ]
        }
      ],
      "source": [
        "!curl -O https://raw.githubusercontent.com/deepjavalibrary/d2l-java/master/tools/colab_build.sh && bash colab_build.sh"
      ]
    },
    {
      "cell_type": "code",
      "source": [
        "!java --list-modules | grep \"jdk.jshell\""
      ],
      "metadata": {
        "id": "_NrPS924rQFX",
        "colab": {
          "base_uri": "https://localhost:8080/"
        },
        "outputId": "446ff53b-d2c1-4c6b-918a-4bf74e9d2e9c"
      },
      "execution_count": 3,
      "outputs": [
        {
          "output_type": "stream",
          "name": "stdout",
          "text": [
            "jdk.jshell@11.0.18\n"
          ]
        }
      ]
    },
    {
      "cell_type": "code",
      "source": [
        "! wget http://compbio.mit.edu/ChromHMM/ChromHMM.zip"
      ],
      "metadata": {
        "id": "zCdYYvCJrpRt",
        "colab": {
          "base_uri": "https://localhost:8080/"
        },
        "outputId": "682811a1-5e53-437b-bcca-d5706923f819"
      },
      "execution_count": 4,
      "outputs": [
        {
          "output_type": "stream",
          "name": "stdout",
          "text": [
            "--2023-04-05 11:51:31--  http://compbio.mit.edu/ChromHMM/ChromHMM.zip\n",
            "Resolving compbio.mit.edu (compbio.mit.edu)... 128.30.2.44\n",
            "Connecting to compbio.mit.edu (compbio.mit.edu)|128.30.2.44|:80... connected.\n",
            "HTTP request sent, awaiting response... 200 OK\n",
            "Length: 48940646 (47M) [application/zip]\n",
            "Saving to: ‘ChromHMM.zip’\n",
            "\n",
            "ChromHMM.zip        100%[===================>]  46.67M  6.72MB/s    in 7.3s    \n",
            "\n",
            "2023-04-05 11:51:39 (6.40 MB/s) - ‘ChromHMM.zip’ saved [48940646/48940646]\n",
            "\n"
          ]
        }
      ]
    },
    {
      "cell_type": "code",
      "source": [
        "!unzip /content/ChromHMM.zip"
      ],
      "metadata": {
        "id": "gF4uI2bvvEN2",
        "colab": {
          "base_uri": "https://localhost:8080/"
        },
        "outputId": "3d4bf445-41af-4a8f-e10a-a246242aee6a"
      },
      "execution_count": 5,
      "outputs": [
        {
          "output_type": "stream",
          "name": "stdout",
          "text": [
            "Archive:  /content/ChromHMM.zip\n",
            "   creating: ChromHMM/ANCHORFILES/\n",
            "   creating: ChromHMM/ANCHORFILES/ce10/\n",
            "  inflating: ChromHMM/ANCHORFILES/ce10/RefSeqTES.ce10.txt.gz  \n",
            "  inflating: ChromHMM/ANCHORFILES/ce10/RefSeqTSS.ce10.txt.gz  \n",
            "   creating: ChromHMM/ANCHORFILES/ce11/\n",
            "  inflating: ChromHMM/ANCHORFILES/ce11/RefSeqTES.ce11.txt.gz  \n",
            "  inflating: ChromHMM/ANCHORFILES/ce11/RefSeqTSS.ce11.txt.gz  \n",
            "   creating: ChromHMM/ANCHORFILES/ce6/\n",
            "  inflating: ChromHMM/ANCHORFILES/ce6/RefSeqTES.ce6.txt.gz  \n",
            "  inflating: ChromHMM/ANCHORFILES/ce6/RefSeqTSS.ce6.txt.gz  \n",
            "   creating: ChromHMM/ANCHORFILES/danRer10/\n",
            "  inflating: ChromHMM/ANCHORFILES/danRer10/RefSeqTES.danRer10.txt.gz  \n",
            "  inflating: ChromHMM/ANCHORFILES/danRer10/RefSeqTSS.danRer10.txt.gz  \n",
            "   creating: ChromHMM/ANCHORFILES/danRer11/\n",
            "  inflating: ChromHMM/ANCHORFILES/danRer11/RefSeqTES.danRer11.txt.gz  \n",
            "  inflating: ChromHMM/ANCHORFILES/danRer11/RefSeqTSS.danRer11.txt.gz  \n",
            "   creating: ChromHMM/ANCHORFILES/danRer7/\n",
            "  inflating: ChromHMM/ANCHORFILES/danRer7/RefSeqTES.danRer7.txt.gz  \n",
            "  inflating: ChromHMM/ANCHORFILES/danRer7/RefSeqTSS.danRer7.txt.gz  \n",
            "   creating: ChromHMM/ANCHORFILES/dm3/\n",
            "  inflating: ChromHMM/ANCHORFILES/dm3/RefSeqTES.dm3.txt.gz  \n",
            "  inflating: ChromHMM/ANCHORFILES/dm3/RefSeqTSS.dm3.txt.gz  \n",
            "   creating: ChromHMM/ANCHORFILES/dm6/\n",
            "  inflating: ChromHMM/ANCHORFILES/dm6/RefSeqTES.dm6.txt.gz  \n",
            "  inflating: ChromHMM/ANCHORFILES/dm6/RefSeqTSS.dm6.txt.gz  \n",
            "   creating: ChromHMM/ANCHORFILES/hg18/\n",
            "  inflating: ChromHMM/ANCHORFILES/hg18/RefSeqTES.hg18.txt.gz  \n",
            "  inflating: ChromHMM/ANCHORFILES/hg18/RefSeqTSS.hg18.txt.gz  \n",
            "   creating: ChromHMM/ANCHORFILES/hg19/\n",
            "  inflating: ChromHMM/ANCHORFILES/hg19/RefSeqTES.hg19.txt.gz  \n",
            "  inflating: ChromHMM/ANCHORFILES/hg19/RefSeqTSS.hg19.txt.gz  \n",
            "   creating: ChromHMM/ANCHORFILES/hg38/\n",
            "  inflating: ChromHMM/ANCHORFILES/hg38/RefSeqTES.hg38.txt.gz  \n",
            "  inflating: ChromHMM/ANCHORFILES/hg38/RefSeqTSS.hg38.txt.gz  \n",
            "   creating: ChromHMM/ANCHORFILES/hs1/\n",
            "  inflating: ChromHMM/ANCHORFILES/hs1/RefSeqTES.hs1.txt.gz  \n",
            "  inflating: ChromHMM/ANCHORFILES/hs1/RefSeqTSS.hs1.txt.gz  \n",
            "   creating: ChromHMM/ANCHORFILES/mm10/\n",
            "  inflating: ChromHMM/ANCHORFILES/mm10/RefSeqTES.mm10.txt.gz  \n",
            "  inflating: ChromHMM/ANCHORFILES/mm10/RefSeqTSS.mm10.txt.gz  \n",
            "   creating: ChromHMM/ANCHORFILES/mm39/\n",
            "  inflating: ChromHMM/ANCHORFILES/mm39/RefSeqTES.mm39.txt.gz  \n",
            "  inflating: ChromHMM/ANCHORFILES/mm39/RefSeqTSS.mm39.txt.gz  \n",
            "   creating: ChromHMM/ANCHORFILES/mm9/\n",
            "  inflating: ChromHMM/ANCHORFILES/mm9/RefSeqTES.mm9.txt.gz  \n",
            "  inflating: ChromHMM/ANCHORFILES/mm9/RefSeqTSS.mm9.txt.gz  \n",
            "   creating: ChromHMM/ANCHORFILES/rn5/\n",
            "  inflating: ChromHMM/ANCHORFILES/rn5/RefSeqTES.rn5.txt.gz  \n",
            "  inflating: ChromHMM/ANCHORFILES/rn5/RefSeqTSS.rn5.txt.gz  \n",
            "   creating: ChromHMM/ANCHORFILES/rn6/\n",
            "  inflating: ChromHMM/ANCHORFILES/rn6/RefSeqTES.rn6.txt.gz  \n",
            "  inflating: ChromHMM/ANCHORFILES/rn6/RefSeqTSS.rn6.txt.gz  \n",
            "  inflating: ChromHMM/ChromHMM.jar   \n",
            "  inflating: ChromHMM/ChromHMM_manual.pdf  \n",
            "   creating: ChromHMM/CHROMSIZES/\n",
            "  inflating: ChromHMM/CHROMSIZES/ce10.txt  \n",
            "  inflating: ChromHMM/CHROMSIZES/ce11.txt  \n",
            "  inflating: ChromHMM/CHROMSIZES/ce6.txt  \n",
            "  inflating: ChromHMM/CHROMSIZES/danRer10.txt  \n",
            "  inflating: ChromHMM/CHROMSIZES/danRer11.txt  \n",
            "  inflating: ChromHMM/CHROMSIZES/danRer7.txt  \n",
            "  inflating: ChromHMM/CHROMSIZES/dm3.txt  \n",
            "  inflating: ChromHMM/CHROMSIZES/dm6.txt  \n",
            "  inflating: ChromHMM/CHROMSIZES/hg18.txt  \n",
            "  inflating: ChromHMM/CHROMSIZES/hg19.txt  \n",
            "  inflating: ChromHMM/CHROMSIZES/hg38.txt  \n",
            "  inflating: ChromHMM/CHROMSIZES/hs1.txt  \n",
            "  inflating: ChromHMM/CHROMSIZES/mm10.txt  \n",
            "  inflating: ChromHMM/CHROMSIZES/mm39.txt  \n",
            "  inflating: ChromHMM/CHROMSIZES/mm9.txt  \n",
            "  inflating: ChromHMM/CHROMSIZES/rn5.txt  \n",
            "  inflating: ChromHMM/CHROMSIZES/rn6.txt  \n",
            "   creating: ChromHMM/COORDS/\n",
            "   creating: ChromHMM/COORDS/ce10/\n",
            "  inflating: ChromHMM/COORDS/ce10/RefSeqExon.ce10.bed.gz  \n",
            "  inflating: ChromHMM/COORDS/ce10/RefSeqGene.ce10.bed.gz  \n",
            "  inflating: ChromHMM/COORDS/ce10/RefSeqTES.ce10.bed.gz  \n",
            "  inflating: ChromHMM/COORDS/ce10/RefSeqTSS.ce10.bed.gz  \n",
            "  inflating: ChromHMM/COORDS/ce10/RefSeqTSS2kb.ce10.bed.gz  \n",
            "   creating: ChromHMM/COORDS/ce11/\n",
            "  inflating: ChromHMM/COORDS/ce11/RefSeqExon.ce11.bed.gz  \n",
            "  inflating: ChromHMM/COORDS/ce11/RefSeqGene.ce11.bed.gz  \n",
            "  inflating: ChromHMM/COORDS/ce11/RefSeqTES.ce11.bed.gz  \n",
            "  inflating: ChromHMM/COORDS/ce11/RefSeqTSS.ce11.bed.gz  \n",
            "  inflating: ChromHMM/COORDS/ce11/RefSeqTSS2kb.ce11.bed.gz  \n",
            "   creating: ChromHMM/COORDS/ce6/\n",
            "  inflating: ChromHMM/COORDS/ce6/RefSeqExon.ce6.bed.gz  \n",
            "  inflating: ChromHMM/COORDS/ce6/RefSeqGene.ce6.bed.gz  \n",
            "  inflating: ChromHMM/COORDS/ce6/RefSeqTES.ce6.bed.gz  \n",
            "  inflating: ChromHMM/COORDS/ce6/RefSeqTSS.ce6.bed.gz  \n",
            "  inflating: ChromHMM/COORDS/ce6/RefSeqTSS2kb.ce6.bed.gz  \n",
            "   creating: ChromHMM/COORDS/danRer10/\n",
            "  inflating: ChromHMM/COORDS/danRer10/RefSeqExon.danRer10.bed.gz  \n",
            "  inflating: ChromHMM/COORDS/danRer10/RefSeqGene.danRer10.bed.gz  \n",
            "  inflating: ChromHMM/COORDS/danRer10/RefSeqTES.danRer10.bed.gz  \n",
            "  inflating: ChromHMM/COORDS/danRer10/RefSeqTSS.danRer10.bed.gz  \n",
            "  inflating: ChromHMM/COORDS/danRer10/RefSeqTSS2kb.danRer10.bed.gz  \n",
            "   creating: ChromHMM/COORDS/danRer11/\n",
            "  inflating: ChromHMM/COORDS/danRer11/RefSeqExon.danRer11.bed.gz  \n",
            "  inflating: ChromHMM/COORDS/danRer11/RefSeqGene.danRer11.bed.gz  \n",
            "  inflating: ChromHMM/COORDS/danRer11/RefSeqTES.danRer11.bed.gz  \n",
            "  inflating: ChromHMM/COORDS/danRer11/RefSeqTSS.danRer11.bed.gz  \n",
            "  inflating: ChromHMM/COORDS/danRer11/RefSeqTSS2kb.danRer11.bed.gz  \n",
            "   creating: ChromHMM/COORDS/danRer7/\n",
            "  inflating: ChromHMM/COORDS/danRer7/RefSeqExon.danRer7.bed.gz  \n",
            "  inflating: ChromHMM/COORDS/danRer7/RefSeqGene.danRer7.bed.gz  \n",
            "  inflating: ChromHMM/COORDS/danRer7/RefSeqTES.danRer7.bed.gz  \n",
            "  inflating: ChromHMM/COORDS/danRer7/RefSeqTSS.danRer7.bed.gz  \n",
            "  inflating: ChromHMM/COORDS/danRer7/RefSeqTSS2kb.danRer7.bed.gz  \n",
            "   creating: ChromHMM/COORDS/dm3/\n",
            "  inflating: ChromHMM/COORDS/dm3/RefSeqExon.dm3.bed.gz  \n",
            "  inflating: ChromHMM/COORDS/dm3/RefSeqGene.dm3.bed.gz  \n",
            "  inflating: ChromHMM/COORDS/dm3/RefSeqTES.dm3.bed.gz  \n",
            "  inflating: ChromHMM/COORDS/dm3/RefSeqTSS.dm3.bed.gz  \n",
            "  inflating: ChromHMM/COORDS/dm3/RefSeqTSS2kb.dm3.bed.gz  \n",
            "   creating: ChromHMM/COORDS/dm6/\n",
            "  inflating: ChromHMM/COORDS/dm6/RefSeqExon.dm6.bed.gz  \n",
            "  inflating: ChromHMM/COORDS/dm6/RefSeqGene.dm6.bed.gz  \n",
            "  inflating: ChromHMM/COORDS/dm6/RefSeqTES.dm6.bed.gz  \n",
            "  inflating: ChromHMM/COORDS/dm6/RefSeqTSS.dm6.bed.gz  \n",
            "  inflating: ChromHMM/COORDS/dm6/RefSeqTSS2kb.dm6.bed.gz  \n",
            "   creating: ChromHMM/COORDS/hg18/\n",
            "  inflating: ChromHMM/COORDS/hg18/CpGIsland.hg18.bed.gz  \n",
            " extracting: ChromHMM/COORDS/hg18/laminB1lads.hg18.bed.gz  \n",
            "  inflating: ChromHMM/COORDS/hg18/RefSeqExon.hg18.bed.gz  \n",
            "  inflating: ChromHMM/COORDS/hg18/RefSeqGene.hg18.bed.gz  \n",
            "  inflating: ChromHMM/COORDS/hg18/RefSeqTES.hg18.bed.gz  \n",
            "  inflating: ChromHMM/COORDS/hg18/RefSeqTSS.hg18.bed.gz  \n",
            "  inflating: ChromHMM/COORDS/hg18/RefSeqTSS2kb.hg18.bed.gz  \n",
            "   creating: ChromHMM/COORDS/hg19/\n",
            "  inflating: ChromHMM/COORDS/hg19/CpGIsland.hg19.bed.gz  \n",
            " extracting: ChromHMM/COORDS/hg19/laminB1lads.hg19.bed.gz  \n",
            "  inflating: ChromHMM/COORDS/hg19/RefSeqExon.hg19.bed.gz  \n",
            "  inflating: ChromHMM/COORDS/hg19/RefSeqGene.hg19.bed.gz  \n",
            "  inflating: ChromHMM/COORDS/hg19/RefSeqTES.hg19.bed.gz  \n",
            "  inflating: ChromHMM/COORDS/hg19/RefSeqTSS.hg19.bed.gz  \n",
            "  inflating: ChromHMM/COORDS/hg19/RefSeqTSS2kb.hg19.bed.gz  \n",
            "   creating: ChromHMM/COORDS/hg38/\n",
            "  inflating: ChromHMM/COORDS/hg38/CpGIsland.hg38.bed.gz  \n",
            "  inflating: ChromHMM/COORDS/hg38/RefSeqExon.hg38.bed.gz  \n",
            "  inflating: ChromHMM/COORDS/hg38/RefSeqGene.hg38.bed.gz  \n",
            "  inflating: ChromHMM/COORDS/hg38/RefSeqTES.hg38.bed.gz  \n",
            "  inflating: ChromHMM/COORDS/hg38/RefSeqTSS.hg38.bed.gz  \n",
            "  inflating: ChromHMM/COORDS/hg38/RefSeqTSS2kb.hg38.bed.gz  \n",
            "   creating: ChromHMM/COORDS/hs1/\n",
            "  inflating: ChromHMM/COORDS/hs1/CpGIsland.hs1.bed.gz  \n",
            "  inflating: ChromHMM/COORDS/hs1/RefSeqExon.hs1.bed.gz  \n",
            "  inflating: ChromHMM/COORDS/hs1/RefSeqGene.hs1.bed.gz  \n",
            "  inflating: ChromHMM/COORDS/hs1/RefSeqTES.hs1.bed.gz  \n",
            "  inflating: ChromHMM/COORDS/hs1/RefSeqTSS.hs1.bed.gz  \n",
            "  inflating: ChromHMM/COORDS/hs1/RefSeqTSS2kb.hs1.bed.gz  \n",
            "   creating: ChromHMM/COORDS/mm10/\n",
            "  inflating: ChromHMM/COORDS/mm10/CpGIsland.mm10.bed.gz  \n",
            "  inflating: ChromHMM/COORDS/mm10/RefSeqExon.mm10.bed.gz  \n",
            "  inflating: ChromHMM/COORDS/mm10/RefSeqGene.mm10.bed.gz  \n",
            "  inflating: ChromHMM/COORDS/mm10/RefSeqTES.mm10.bed.gz  \n",
            "  inflating: ChromHMM/COORDS/mm10/RefSeqTSS.mm10.bed.gz  \n",
            "  inflating: ChromHMM/COORDS/mm10/RefSeqTSS2kb.mm10.bed.gz  \n",
            "   creating: ChromHMM/COORDS/mm39/\n",
            "  inflating: ChromHMM/COORDS/mm39/CpGIsland.mm39.bed.gz  \n",
            "  inflating: ChromHMM/COORDS/mm39/RefSeqExon.mm39.bed.gz  \n",
            "  inflating: ChromHMM/COORDS/mm39/RefSeqGene.mm39.bed.gz  \n",
            "  inflating: ChromHMM/COORDS/mm39/RefSeqTES.mm39.bed.gz  \n",
            "  inflating: ChromHMM/COORDS/mm39/RefSeqTSS.mm39.bed.gz  \n",
            "  inflating: ChromHMM/COORDS/mm39/RefSeqTSS2kb.mm39.bed.gz  \n",
            "   creating: ChromHMM/COORDS/mm9/\n",
            "  inflating: ChromHMM/COORDS/mm9/CpGIsland.mm9.bed.gz  \n",
            "  inflating: ChromHMM/COORDS/mm9/RefSeqExon.mm9.bed.gz  \n",
            "  inflating: ChromHMM/COORDS/mm9/RefSeqGene.mm9.bed.gz  \n",
            "  inflating: ChromHMM/COORDS/mm9/RefSeqTES.mm9.bed.gz  \n",
            "  inflating: ChromHMM/COORDS/mm9/RefSeqTSS.mm9.bed.gz  \n",
            "  inflating: ChromHMM/COORDS/mm9/RefSeqTSS2kb.mm9.bed.gz  \n",
            "   creating: ChromHMM/COORDS/rn5/\n",
            "  inflating: ChromHMM/COORDS/rn5/CpGIsland.rn5.bed.gz  \n",
            "  inflating: ChromHMM/COORDS/rn5/RefSeqExon.rn5.bed.gz  \n",
            "  inflating: ChromHMM/COORDS/rn5/RefSeqGene.rn5.bed.gz  \n",
            "  inflating: ChromHMM/COORDS/rn5/RefSeqTES.rn5.bed.gz  \n",
            "  inflating: ChromHMM/COORDS/rn5/RefSeqTSS.rn5.bed.gz  \n",
            "  inflating: ChromHMM/COORDS/rn5/RefSeqTSS2kb.rn5.bed.gz  \n",
            "   creating: ChromHMM/COORDS/rn6/\n",
            "  inflating: ChromHMM/COORDS/rn6/CpGIsland.rn6.bed.gz  \n",
            "  inflating: ChromHMM/COORDS/rn6/RefSeqExon.rn6.bed.gz  \n",
            "  inflating: ChromHMM/COORDS/rn6/RefSeqGene.rn6.bed.gz  \n",
            "  inflating: ChromHMM/COORDS/rn6/RefSeqTES.rn6.bed.gz  \n",
            "  inflating: ChromHMM/COORDS/rn6/RefSeqTSS.rn6.bed.gz  \n",
            "  inflating: ChromHMM/COORDS/rn6/RefSeqTSS2kb.rn6.bed.gz  \n",
            "   creating: ChromHMM/SAMPLEDATA_HG18/\n",
            "  inflating: ChromHMM/SAMPLEDATA_HG18/GM12878_chr11_binary.txt.gz  \n",
            "  inflating: ChromHMM/SAMPLEDATA_HG18/K562_chr11_binary.txt.gz  \n",
            "   creating: ChromHMM/SRC/\n",
            "   creating: ChromHMM/SRC/edu/\n",
            "   creating: ChromHMM/SRC/edu/mit/\n",
            "   creating: ChromHMM/SRC/edu/mit/compbio/\n",
            "   creating: ChromHMM/SRC/edu/mit/compbio/ChromHMM/\n",
            "  inflating: ChromHMM/SRC/edu/mit/compbio/ChromHMM/BrowserOutput.java  \n",
            "  inflating: ChromHMM/SRC/edu/mit/compbio/ChromHMM/ChromHMM.java  \n",
            "  inflating: ChromHMM/SRC/edu/mit/compbio/ChromHMM/ConvertGeneTable.java  \n",
            "  inflating: ChromHMM/SRC/edu/mit/compbio/ChromHMM/NestedEliminateInitialize.java  \n",
            "  inflating: ChromHMM/SRC/edu/mit/compbio/ChromHMM/Preprocessing.java  \n",
            "  inflating: ChromHMM/SRC/edu/mit/compbio/ChromHMM/StateAnalysis.java  \n",
            "  inflating: ChromHMM/SRC/edu/mit/compbio/ChromHMM/Util.java  \n",
            "   creating: ChromHMM/SRC/org/\n",
            "   creating: ChromHMM/SRC/org/tc33/\n",
            "   creating: ChromHMM/SRC/org/tc33/jheatchart/\n",
            "  inflating: ChromHMM/SRC/org/tc33/jheatchart/HeatChart.java  \n",
            "  inflating: ChromHMM/versionlog.txt  \n"
          ]
        }
      ]
    },
    {
      "cell_type": "markdown",
      "source": [
        "## Скачиваем файлы"
      ],
      "metadata": {
        "id": "k80uGrS5quq1"
      }
    },
    {
      "cell_type": "code",
      "source": [
        "!wget http://hgdownload.cse.ucsc.edu/goldenPath/hg19/encodeDCC/wgEncodeBroadHistone/wgEncodeBroadHistoneHuvecH3k27me3StdAlnRep1.bam -O H3k27me3.bam\n",
        "!wget http://hgdownload.cse.ucsc.edu/goldenPath/hg19/encodeDCC/wgEncodeBroadHistone/wgEncodeBroadHistoneHuvecH3k36me3StdAlnRep1.bam -O H3k36me3.bam\n",
        "!wget http://hgdownload.cse.ucsc.edu/goldenPath/hg19/encodeDCC/wgEncodeBroadHistone/wgEncodeBroadHistoneHuvecH3k79me2AlnRep1.bam  -O H3k79me2.bam\n",
        "!wget http://hgdownload.cse.ucsc.edu/goldenPath/hg19/encodeDCC/wgEncodeBroadHistone/wgEncodeBroadHistoneHuvecH4k20me1StdAlnRep1.bam -O H4k20me1.bam\n",
        "!wget http://hgdownload.cse.ucsc.edu/goldenPath/hg19/encodeDCC/wgEncodeBroadHistone/wgEncodeBroadHistoneHuvecH3k09me3AlnRep1.bam -O H3k09me3.bam\n",
        "!wget http://hgdownload.cse.ucsc.edu/goldenPath/hg19/encodeDCC/wgEncodeBroadHistone/wgEncodeBroadHistoneHuvecH3k4me2StdAlnRep1.bam -O H3k4me2.bam\n",
        "!wget http://hgdownload.cse.ucsc.edu/goldenPath/hg19/encodeDCC/wgEncodeBroadHistone/wgEncodeBroadHistoneHuvecH3k4me3StdAlnRep1.bam -O H3k4me3.bam\n",
        "!wget http://hgdownload.cse.ucsc.edu/goldenPath/hg19/encodeDCC/wgEncodeBroadHistone/wgEncodeBroadHistoneHuvecH3k9acStdAlnRep1.bam -O H3K9ac.bam\n",
        "!wget http://hgdownload.cse.ucsc.edu/goldenPath/hg19/encodeDCC/wgEncodeBroadHistone/wgEncodeBroadHistoneHuvecH3k9me1StdAlnRep1.bam -O H3k9me1.bam\n",
        "!wget http://hgdownload.cse.ucsc.edu/goldenPath/hg19/encodeDCC/wgEncodeBroadHistone/wgEncodeBroadHistoneHuvecH3k27acStdAlnRep1.bam  -O H3k27ac"
      ],
      "metadata": {
        "id": "QWR1O9xfR--1"
      },
      "execution_count": null,
      "outputs": []
    },
    {
      "cell_type": "code",
      "source": [
        "!wget http://hgdownload.cse.ucsc.edu/goldenPath/hg19/encodeDCC/wgEncodeBroadHistone/wgEncodeBroadHistoneHuvecControlStdAlnRep1.bam -O Control.bam"
      ],
      "metadata": {
        "id": "PSWbbv8wcFUY"
      },
      "execution_count": null,
      "outputs": []
    },
    {
      "cell_type": "code",
      "source": [
        "import os\n",
        "\n",
        "# !> cellmarkfiletable.txt\n",
        "control = 'Control.bam'\n",
        "\n",
        "with open(f'cellmarkfiletable.txt', 'a') as the_file:\n",
        "  for file in os.listdir():\n",
        "    if file[-3:] == 'bam' and \"Control\" not in file:\n",
        "      the_file.write(f'HUVEC\\t{file[:-4]}\\t{file}\\t{control}\\n')"
      ],
      "metadata": {
        "id": "Jgk7seeCVlPU"
      },
      "execution_count": 8,
      "outputs": []
    },
    {
      "cell_type": "code",
      "source": [
        "!java -mx5000M -jar /content/ChromHMM/ChromHMM.jar BinarizeBam -b 200 \\\n",
        "  /content/ChromHMM/CHROMSIZES/hg19.txt /content/ cellmarkfiletable.txt binarizedData"
      ],
      "metadata": {
        "id": "GcVBvuQZfzb8"
      },
      "execution_count": null,
      "outputs": []
    },
    {
      "cell_type": "code",
      "source": [
        "!java -mx5000M -jar /content/ChromHMM/ChromHMM.jar LearnModel -b 200 \\\n",
        "  /content/binarizedData/ /content/data 15 hg19"
      ],
      "metadata": {
        "id": "AJcFdupvogYN"
      },
      "execution_count": null,
      "outputs": []
    },
    {
      "cell_type": "code",
      "source": [
        "from google.colab import files\n",
        "import os\n",
        "\n",
        "files.download('cellmarkfiletable.txt')\n",
        "\n",
        "for file in os.listdir('/content/data/'):\n",
        "  files.download(f'/content/data/{file}')"
      ],
      "metadata": {
        "id": "U01ojy9691Yb",
        "colab": {
          "base_uri": "https://localhost:8080/",
          "height": 17
        },
        "outputId": "357ae55f-fe44-43d5-fe42-f0daa0955a53"
      },
      "execution_count": 11,
      "outputs": [
        {
          "output_type": "display_data",
          "data": {
            "text/plain": [
              "<IPython.core.display.Javascript object>"
            ],
            "application/javascript": [
              "\n",
              "    async function download(id, filename, size) {\n",
              "      if (!google.colab.kernel.accessAllowed) {\n",
              "        return;\n",
              "      }\n",
              "      const div = document.createElement('div');\n",
              "      const label = document.createElement('label');\n",
              "      label.textContent = `Downloading \"${filename}\": `;\n",
              "      div.appendChild(label);\n",
              "      const progress = document.createElement('progress');\n",
              "      progress.max = size;\n",
              "      div.appendChild(progress);\n",
              "      document.body.appendChild(div);\n",
              "\n",
              "      const buffers = [];\n",
              "      let downloaded = 0;\n",
              "\n",
              "      const channel = await google.colab.kernel.comms.open(id);\n",
              "      // Send a message to notify the kernel that we're ready.\n",
              "      channel.send({})\n",
              "\n",
              "      for await (const message of channel.messages) {\n",
              "        // Send a message to notify the kernel that we're ready.\n",
              "        channel.send({})\n",
              "        if (message.buffers) {\n",
              "          for (const buffer of message.buffers) {\n",
              "            buffers.push(buffer);\n",
              "            downloaded += buffer.byteLength;\n",
              "            progress.value = downloaded;\n",
              "          }\n",
              "        }\n",
              "      }\n",
              "      const blob = new Blob(buffers, {type: 'application/binary'});\n",
              "      const a = document.createElement('a');\n",
              "      a.href = window.URL.createObjectURL(blob);\n",
              "      a.download = filename;\n",
              "      div.appendChild(a);\n",
              "      a.click();\n",
              "      div.remove();\n",
              "    }\n",
              "  "
            ]
          },
          "metadata": {}
        },
        {
          "output_type": "display_data",
          "data": {
            "text/plain": [
              "<IPython.core.display.Javascript object>"
            ],
            "application/javascript": [
              "download(\"download_983261e6-e258-473d-b7e2-730a8bd48918\", \"cellmarkfiletable.txt\", 350)"
            ]
          },
          "metadata": {}
        },
        {
          "output_type": "display_data",
          "data": {
            "text/plain": [
              "<IPython.core.display.Javascript object>"
            ],
            "application/javascript": [
              "\n",
              "    async function download(id, filename, size) {\n",
              "      if (!google.colab.kernel.accessAllowed) {\n",
              "        return;\n",
              "      }\n",
              "      const div = document.createElement('div');\n",
              "      const label = document.createElement('label');\n",
              "      label.textContent = `Downloading \"${filename}\": `;\n",
              "      div.appendChild(label);\n",
              "      const progress = document.createElement('progress');\n",
              "      progress.max = size;\n",
              "      div.appendChild(progress);\n",
              "      document.body.appendChild(div);\n",
              "\n",
              "      const buffers = [];\n",
              "      let downloaded = 0;\n",
              "\n",
              "      const channel = await google.colab.kernel.comms.open(id);\n",
              "      // Send a message to notify the kernel that we're ready.\n",
              "      channel.send({})\n",
              "\n",
              "      for await (const message of channel.messages) {\n",
              "        // Send a message to notify the kernel that we're ready.\n",
              "        channel.send({})\n",
              "        if (message.buffers) {\n",
              "          for (const buffer of message.buffers) {\n",
              "            buffers.push(buffer);\n",
              "            downloaded += buffer.byteLength;\n",
              "            progress.value = downloaded;\n",
              "          }\n",
              "        }\n",
              "      }\n",
              "      const blob = new Blob(buffers, {type: 'application/binary'});\n",
              "      const a = document.createElement('a');\n",
              "      a.href = window.URL.createObjectURL(blob);\n",
              "      a.download = filename;\n",
              "      div.appendChild(a);\n",
              "      a.click();\n",
              "      div.remove();\n",
              "    }\n",
              "  "
            ]
          },
          "metadata": {}
        },
        {
          "output_type": "display_data",
          "data": {
            "text/plain": [
              "<IPython.core.display.Javascript object>"
            ],
            "application/javascript": [
              "download(\"download_4f6e602f-e838-4a57-ae15-8d8a9e6affb1\", \"HUVEC_15_RefSeqTSS_neighborhood.png\", 29963)"
            ]
          },
          "metadata": {}
        },
        {
          "output_type": "display_data",
          "data": {
            "text/plain": [
              "<IPython.core.display.Javascript object>"
            ],
            "application/javascript": [
              "\n",
              "    async function download(id, filename, size) {\n",
              "      if (!google.colab.kernel.accessAllowed) {\n",
              "        return;\n",
              "      }\n",
              "      const div = document.createElement('div');\n",
              "      const label = document.createElement('label');\n",
              "      label.textContent = `Downloading \"${filename}\": `;\n",
              "      div.appendChild(label);\n",
              "      const progress = document.createElement('progress');\n",
              "      progress.max = size;\n",
              "      div.appendChild(progress);\n",
              "      document.body.appendChild(div);\n",
              "\n",
              "      const buffers = [];\n",
              "      let downloaded = 0;\n",
              "\n",
              "      const channel = await google.colab.kernel.comms.open(id);\n",
              "      // Send a message to notify the kernel that we're ready.\n",
              "      channel.send({})\n",
              "\n",
              "      for await (const message of channel.messages) {\n",
              "        // Send a message to notify the kernel that we're ready.\n",
              "        channel.send({})\n",
              "        if (message.buffers) {\n",
              "          for (const buffer of message.buffers) {\n",
              "            buffers.push(buffer);\n",
              "            downloaded += buffer.byteLength;\n",
              "            progress.value = downloaded;\n",
              "          }\n",
              "        }\n",
              "      }\n",
              "      const blob = new Blob(buffers, {type: 'application/binary'});\n",
              "      const a = document.createElement('a');\n",
              "      a.href = window.URL.createObjectURL(blob);\n",
              "      a.download = filename;\n",
              "      div.appendChild(a);\n",
              "      a.click();\n",
              "      div.remove();\n",
              "    }\n",
              "  "
            ]
          },
          "metadata": {}
        },
        {
          "output_type": "display_data",
          "data": {
            "text/plain": [
              "<IPython.core.display.Javascript object>"
            ],
            "application/javascript": [
              "download(\"download_02d04ff5-cbdc-4099-a949-0795a0ad2b50\", \"HUVEC_15_overlap.txt\", 1307)"
            ]
          },
          "metadata": {}
        },
        {
          "output_type": "display_data",
          "data": {
            "text/plain": [
              "<IPython.core.display.Javascript object>"
            ],
            "application/javascript": [
              "\n",
              "    async function download(id, filename, size) {\n",
              "      if (!google.colab.kernel.accessAllowed) {\n",
              "        return;\n",
              "      }\n",
              "      const div = document.createElement('div');\n",
              "      const label = document.createElement('label');\n",
              "      label.textContent = `Downloading \"${filename}\": `;\n",
              "      div.appendChild(label);\n",
              "      const progress = document.createElement('progress');\n",
              "      progress.max = size;\n",
              "      div.appendChild(progress);\n",
              "      document.body.appendChild(div);\n",
              "\n",
              "      const buffers = [];\n",
              "      let downloaded = 0;\n",
              "\n",
              "      const channel = await google.colab.kernel.comms.open(id);\n",
              "      // Send a message to notify the kernel that we're ready.\n",
              "      channel.send({})\n",
              "\n",
              "      for await (const message of channel.messages) {\n",
              "        // Send a message to notify the kernel that we're ready.\n",
              "        channel.send({})\n",
              "        if (message.buffers) {\n",
              "          for (const buffer of message.buffers) {\n",
              "            buffers.push(buffer);\n",
              "            downloaded += buffer.byteLength;\n",
              "            progress.value = downloaded;\n",
              "          }\n",
              "        }\n",
              "      }\n",
              "      const blob = new Blob(buffers, {type: 'application/binary'});\n",
              "      const a = document.createElement('a');\n",
              "      a.href = window.URL.createObjectURL(blob);\n",
              "      a.download = filename;\n",
              "      div.appendChild(a);\n",
              "      a.click();\n",
              "      div.remove();\n",
              "    }\n",
              "  "
            ]
          },
          "metadata": {}
        },
        {
          "output_type": "display_data",
          "data": {
            "text/plain": [
              "<IPython.core.display.Javascript object>"
            ],
            "application/javascript": [
              "download(\"download_828e76ea-e139-49a9-b885-b4451c7d4906\", \"HUVEC_15_RefSeqTSS_neighborhood.txt\", 2746)"
            ]
          },
          "metadata": {}
        },
        {
          "output_type": "display_data",
          "data": {
            "text/plain": [
              "<IPython.core.display.Javascript object>"
            ],
            "application/javascript": [
              "\n",
              "    async function download(id, filename, size) {\n",
              "      if (!google.colab.kernel.accessAllowed) {\n",
              "        return;\n",
              "      }\n",
              "      const div = document.createElement('div');\n",
              "      const label = document.createElement('label');\n",
              "      label.textContent = `Downloading \"${filename}\": `;\n",
              "      div.appendChild(label);\n",
              "      const progress = document.createElement('progress');\n",
              "      progress.max = size;\n",
              "      div.appendChild(progress);\n",
              "      document.body.appendChild(div);\n",
              "\n",
              "      const buffers = [];\n",
              "      let downloaded = 0;\n",
              "\n",
              "      const channel = await google.colab.kernel.comms.open(id);\n",
              "      // Send a message to notify the kernel that we're ready.\n",
              "      channel.send({})\n",
              "\n",
              "      for await (const message of channel.messages) {\n",
              "        // Send a message to notify the kernel that we're ready.\n",
              "        channel.send({})\n",
              "        if (message.buffers) {\n",
              "          for (const buffer of message.buffers) {\n",
              "            buffers.push(buffer);\n",
              "            downloaded += buffer.byteLength;\n",
              "            progress.value = downloaded;\n",
              "          }\n",
              "        }\n",
              "      }\n",
              "      const blob = new Blob(buffers, {type: 'application/binary'});\n",
              "      const a = document.createElement('a');\n",
              "      a.href = window.URL.createObjectURL(blob);\n",
              "      a.download = filename;\n",
              "      div.appendChild(a);\n",
              "      a.click();\n",
              "      div.remove();\n",
              "    }\n",
              "  "
            ]
          },
          "metadata": {}
        },
        {
          "output_type": "display_data",
          "data": {
            "text/plain": [
              "<IPython.core.display.Javascript object>"
            ],
            "application/javascript": [
              "download(\"download_47c154c4-4278-4443-816d-2cffd5a2b861\", \"webpage_15.html\", 1983)"
            ]
          },
          "metadata": {}
        },
        {
          "output_type": "display_data",
          "data": {
            "text/plain": [
              "<IPython.core.display.Javascript object>"
            ],
            "application/javascript": [
              "\n",
              "    async function download(id, filename, size) {\n",
              "      if (!google.colab.kernel.accessAllowed) {\n",
              "        return;\n",
              "      }\n",
              "      const div = document.createElement('div');\n",
              "      const label = document.createElement('label');\n",
              "      label.textContent = `Downloading \"${filename}\": `;\n",
              "      div.appendChild(label);\n",
              "      const progress = document.createElement('progress');\n",
              "      progress.max = size;\n",
              "      div.appendChild(progress);\n",
              "      document.body.appendChild(div);\n",
              "\n",
              "      const buffers = [];\n",
              "      let downloaded = 0;\n",
              "\n",
              "      const channel = await google.colab.kernel.comms.open(id);\n",
              "      // Send a message to notify the kernel that we're ready.\n",
              "      channel.send({})\n",
              "\n",
              "      for await (const message of channel.messages) {\n",
              "        // Send a message to notify the kernel that we're ready.\n",
              "        channel.send({})\n",
              "        if (message.buffers) {\n",
              "          for (const buffer of message.buffers) {\n",
              "            buffers.push(buffer);\n",
              "            downloaded += buffer.byteLength;\n",
              "            progress.value = downloaded;\n",
              "          }\n",
              "        }\n",
              "      }\n",
              "      const blob = new Blob(buffers, {type: 'application/binary'});\n",
              "      const a = document.createElement('a');\n",
              "      a.href = window.URL.createObjectURL(blob);\n",
              "      a.download = filename;\n",
              "      div.appendChild(a);\n",
              "      a.click();\n",
              "      div.remove();\n",
              "    }\n",
              "  "
            ]
          },
          "metadata": {}
        },
        {
          "output_type": "display_data",
          "data": {
            "text/plain": [
              "<IPython.core.display.Javascript object>"
            ],
            "application/javascript": [
              "download(\"download_6279d7af-a909-41f9-a489-cb66c566be2a\", \"emissions_15.svg\", 135329)"
            ]
          },
          "metadata": {}
        },
        {
          "output_type": "display_data",
          "data": {
            "text/plain": [
              "<IPython.core.display.Javascript object>"
            ],
            "application/javascript": [
              "\n",
              "    async function download(id, filename, size) {\n",
              "      if (!google.colab.kernel.accessAllowed) {\n",
              "        return;\n",
              "      }\n",
              "      const div = document.createElement('div');\n",
              "      const label = document.createElement('label');\n",
              "      label.textContent = `Downloading \"${filename}\": `;\n",
              "      div.appendChild(label);\n",
              "      const progress = document.createElement('progress');\n",
              "      progress.max = size;\n",
              "      div.appendChild(progress);\n",
              "      document.body.appendChild(div);\n",
              "\n",
              "      const buffers = [];\n",
              "      let downloaded = 0;\n",
              "\n",
              "      const channel = await google.colab.kernel.comms.open(id);\n",
              "      // Send a message to notify the kernel that we're ready.\n",
              "      channel.send({})\n",
              "\n",
              "      for await (const message of channel.messages) {\n",
              "        // Send a message to notify the kernel that we're ready.\n",
              "        channel.send({})\n",
              "        if (message.buffers) {\n",
              "          for (const buffer of message.buffers) {\n",
              "            buffers.push(buffer);\n",
              "            downloaded += buffer.byteLength;\n",
              "            progress.value = downloaded;\n",
              "          }\n",
              "        }\n",
              "      }\n",
              "      const blob = new Blob(buffers, {type: 'application/binary'});\n",
              "      const a = document.createElement('a');\n",
              "      a.href = window.URL.createObjectURL(blob);\n",
              "      a.download = filename;\n",
              "      div.appendChild(a);\n",
              "      a.click();\n",
              "      div.remove();\n",
              "    }\n",
              "  "
            ]
          },
          "metadata": {}
        },
        {
          "output_type": "display_data",
          "data": {
            "text/plain": [
              "<IPython.core.display.Javascript object>"
            ],
            "application/javascript": [
              "download(\"download_da6cf331-5e5f-4edd-be79-9353ba27e46e\", \"model_15.txt\", 21656)"
            ]
          },
          "metadata": {}
        },
        {
          "output_type": "display_data",
          "data": {
            "text/plain": [
              "<IPython.core.display.Javascript object>"
            ],
            "application/javascript": [
              "\n",
              "    async function download(id, filename, size) {\n",
              "      if (!google.colab.kernel.accessAllowed) {\n",
              "        return;\n",
              "      }\n",
              "      const div = document.createElement('div');\n",
              "      const label = document.createElement('label');\n",
              "      label.textContent = `Downloading \"${filename}\": `;\n",
              "      div.appendChild(label);\n",
              "      const progress = document.createElement('progress');\n",
              "      progress.max = size;\n",
              "      div.appendChild(progress);\n",
              "      document.body.appendChild(div);\n",
              "\n",
              "      const buffers = [];\n",
              "      let downloaded = 0;\n",
              "\n",
              "      const channel = await google.colab.kernel.comms.open(id);\n",
              "      // Send a message to notify the kernel that we're ready.\n",
              "      channel.send({})\n",
              "\n",
              "      for await (const message of channel.messages) {\n",
              "        // Send a message to notify the kernel that we're ready.\n",
              "        channel.send({})\n",
              "        if (message.buffers) {\n",
              "          for (const buffer of message.buffers) {\n",
              "            buffers.push(buffer);\n",
              "            downloaded += buffer.byteLength;\n",
              "            progress.value = downloaded;\n",
              "          }\n",
              "        }\n",
              "      }\n",
              "      const blob = new Blob(buffers, {type: 'application/binary'});\n",
              "      const a = document.createElement('a');\n",
              "      a.href = window.URL.createObjectURL(blob);\n",
              "      a.download = filename;\n",
              "      div.appendChild(a);\n",
              "      a.click();\n",
              "      div.remove();\n",
              "    }\n",
              "  "
            ]
          },
          "metadata": {}
        },
        {
          "output_type": "display_data",
          "data": {
            "text/plain": [
              "<IPython.core.display.Javascript object>"
            ],
            "application/javascript": [
              "download(\"download_1741246b-82e5-425c-95cf-7ea9224a66a6\", \"HUVEC_15_RefSeqTES_neighborhood.svg\", 167693)"
            ]
          },
          "metadata": {}
        },
        {
          "output_type": "display_data",
          "data": {
            "text/plain": [
              "<IPython.core.display.Javascript object>"
            ],
            "application/javascript": [
              "\n",
              "    async function download(id, filename, size) {\n",
              "      if (!google.colab.kernel.accessAllowed) {\n",
              "        return;\n",
              "      }\n",
              "      const div = document.createElement('div');\n",
              "      const label = document.createElement('label');\n",
              "      label.textContent = `Downloading \"${filename}\": `;\n",
              "      div.appendChild(label);\n",
              "      const progress = document.createElement('progress');\n",
              "      progress.max = size;\n",
              "      div.appendChild(progress);\n",
              "      document.body.appendChild(div);\n",
              "\n",
              "      const buffers = [];\n",
              "      let downloaded = 0;\n",
              "\n",
              "      const channel = await google.colab.kernel.comms.open(id);\n",
              "      // Send a message to notify the kernel that we're ready.\n",
              "      channel.send({})\n",
              "\n",
              "      for await (const message of channel.messages) {\n",
              "        // Send a message to notify the kernel that we're ready.\n",
              "        channel.send({})\n",
              "        if (message.buffers) {\n",
              "          for (const buffer of message.buffers) {\n",
              "            buffers.push(buffer);\n",
              "            downloaded += buffer.byteLength;\n",
              "            progress.value = downloaded;\n",
              "          }\n",
              "        }\n",
              "      }\n",
              "      const blob = new Blob(buffers, {type: 'application/binary'});\n",
              "      const a = document.createElement('a');\n",
              "      a.href = window.URL.createObjectURL(blob);\n",
              "      a.download = filename;\n",
              "      div.appendChild(a);\n",
              "      a.click();\n",
              "      div.remove();\n",
              "    }\n",
              "  "
            ]
          },
          "metadata": {}
        },
        {
          "output_type": "display_data",
          "data": {
            "text/plain": [
              "<IPython.core.display.Javascript object>"
            ],
            "application/javascript": [
              "download(\"download_e2b40bdd-2589-4b28-ad16-20f4e8a94f59\", \"transitions_15.svg\", 110484)"
            ]
          },
          "metadata": {}
        },
        {
          "output_type": "display_data",
          "data": {
            "text/plain": [
              "<IPython.core.display.Javascript object>"
            ],
            "application/javascript": [
              "\n",
              "    async function download(id, filename, size) {\n",
              "      if (!google.colab.kernel.accessAllowed) {\n",
              "        return;\n",
              "      }\n",
              "      const div = document.createElement('div');\n",
              "      const label = document.createElement('label');\n",
              "      label.textContent = `Downloading \"${filename}\": `;\n",
              "      div.appendChild(label);\n",
              "      const progress = document.createElement('progress');\n",
              "      progress.max = size;\n",
              "      div.appendChild(progress);\n",
              "      document.body.appendChild(div);\n",
              "\n",
              "      const buffers = [];\n",
              "      let downloaded = 0;\n",
              "\n",
              "      const channel = await google.colab.kernel.comms.open(id);\n",
              "      // Send a message to notify the kernel that we're ready.\n",
              "      channel.send({})\n",
              "\n",
              "      for await (const message of channel.messages) {\n",
              "        // Send a message to notify the kernel that we're ready.\n",
              "        channel.send({})\n",
              "        if (message.buffers) {\n",
              "          for (const buffer of message.buffers) {\n",
              "            buffers.push(buffer);\n",
              "            downloaded += buffer.byteLength;\n",
              "            progress.value = downloaded;\n",
              "          }\n",
              "        }\n",
              "      }\n",
              "      const blob = new Blob(buffers, {type: 'application/binary'});\n",
              "      const a = document.createElement('a');\n",
              "      a.href = window.URL.createObjectURL(blob);\n",
              "      a.download = filename;\n",
              "      div.appendChild(a);\n",
              "      a.click();\n",
              "      div.remove();\n",
              "    }\n",
              "  "
            ]
          },
          "metadata": {}
        },
        {
          "output_type": "display_data",
          "data": {
            "text/plain": [
              "<IPython.core.display.Javascript object>"
            ],
            "application/javascript": [
              "download(\"download_d4c3e32f-7927-49e5-8c7f-17f12bda1b0c\", \"HUVEC_15_expanded.bed\", 5149270)"
            ]
          },
          "metadata": {}
        },
        {
          "output_type": "display_data",
          "data": {
            "text/plain": [
              "<IPython.core.display.Javascript object>"
            ],
            "application/javascript": [
              "\n",
              "    async function download(id, filename, size) {\n",
              "      if (!google.colab.kernel.accessAllowed) {\n",
              "        return;\n",
              "      }\n",
              "      const div = document.createElement('div');\n",
              "      const label = document.createElement('label');\n",
              "      label.textContent = `Downloading \"${filename}\": `;\n",
              "      div.appendChild(label);\n",
              "      const progress = document.createElement('progress');\n",
              "      progress.max = size;\n",
              "      div.appendChild(progress);\n",
              "      document.body.appendChild(div);\n",
              "\n",
              "      const buffers = [];\n",
              "      let downloaded = 0;\n",
              "\n",
              "      const channel = await google.colab.kernel.comms.open(id);\n",
              "      // Send a message to notify the kernel that we're ready.\n",
              "      channel.send({})\n",
              "\n",
              "      for await (const message of channel.messages) {\n",
              "        // Send a message to notify the kernel that we're ready.\n",
              "        channel.send({})\n",
              "        if (message.buffers) {\n",
              "          for (const buffer of message.buffers) {\n",
              "            buffers.push(buffer);\n",
              "            downloaded += buffer.byteLength;\n",
              "            progress.value = downloaded;\n",
              "          }\n",
              "        }\n",
              "      }\n",
              "      const blob = new Blob(buffers, {type: 'application/binary'});\n",
              "      const a = document.createElement('a');\n",
              "      a.href = window.URL.createObjectURL(blob);\n",
              "      a.download = filename;\n",
              "      div.appendChild(a);\n",
              "      a.click();\n",
              "      div.remove();\n",
              "    }\n",
              "  "
            ]
          },
          "metadata": {}
        },
        {
          "output_type": "display_data",
          "data": {
            "text/plain": [
              "<IPython.core.display.Javascript object>"
            ],
            "application/javascript": [
              "download(\"download_6064e1d5-61a8-4d32-87ff-d1f9e75a27d5\", \"emissions_15.txt\", 2934)"
            ]
          },
          "metadata": {}
        },
        {
          "output_type": "display_data",
          "data": {
            "text/plain": [
              "<IPython.core.display.Javascript object>"
            ],
            "application/javascript": [
              "\n",
              "    async function download(id, filename, size) {\n",
              "      if (!google.colab.kernel.accessAllowed) {\n",
              "        return;\n",
              "      }\n",
              "      const div = document.createElement('div');\n",
              "      const label = document.createElement('label');\n",
              "      label.textContent = `Downloading \"${filename}\": `;\n",
              "      div.appendChild(label);\n",
              "      const progress = document.createElement('progress');\n",
              "      progress.max = size;\n",
              "      div.appendChild(progress);\n",
              "      document.body.appendChild(div);\n",
              "\n",
              "      const buffers = [];\n",
              "      let downloaded = 0;\n",
              "\n",
              "      const channel = await google.colab.kernel.comms.open(id);\n",
              "      // Send a message to notify the kernel that we're ready.\n",
              "      channel.send({})\n",
              "\n",
              "      for await (const message of channel.messages) {\n",
              "        // Send a message to notify the kernel that we're ready.\n",
              "        channel.send({})\n",
              "        if (message.buffers) {\n",
              "          for (const buffer of message.buffers) {\n",
              "            buffers.push(buffer);\n",
              "            downloaded += buffer.byteLength;\n",
              "            progress.value = downloaded;\n",
              "          }\n",
              "        }\n",
              "      }\n",
              "      const blob = new Blob(buffers, {type: 'application/binary'});\n",
              "      const a = document.createElement('a');\n",
              "      a.href = window.URL.createObjectURL(blob);\n",
              "      a.download = filename;\n",
              "      div.appendChild(a);\n",
              "      a.click();\n",
              "      div.remove();\n",
              "    }\n",
              "  "
            ]
          },
          "metadata": {}
        },
        {
          "output_type": "display_data",
          "data": {
            "text/plain": [
              "<IPython.core.display.Javascript object>"
            ],
            "application/javascript": [
              "download(\"download_546d5350-425b-4b14-965d-4fa5a7d34533\", \"HUVEC_15_RefSeqTSS_neighborhood.svg\", 168845)"
            ]
          },
          "metadata": {}
        },
        {
          "output_type": "display_data",
          "data": {
            "text/plain": [
              "<IPython.core.display.Javascript object>"
            ],
            "application/javascript": [
              "\n",
              "    async function download(id, filename, size) {\n",
              "      if (!google.colab.kernel.accessAllowed) {\n",
              "        return;\n",
              "      }\n",
              "      const div = document.createElement('div');\n",
              "      const label = document.createElement('label');\n",
              "      label.textContent = `Downloading \"${filename}\": `;\n",
              "      div.appendChild(label);\n",
              "      const progress = document.createElement('progress');\n",
              "      progress.max = size;\n",
              "      div.appendChild(progress);\n",
              "      document.body.appendChild(div);\n",
              "\n",
              "      const buffers = [];\n",
              "      let downloaded = 0;\n",
              "\n",
              "      const channel = await google.colab.kernel.comms.open(id);\n",
              "      // Send a message to notify the kernel that we're ready.\n",
              "      channel.send({})\n",
              "\n",
              "      for await (const message of channel.messages) {\n",
              "        // Send a message to notify the kernel that we're ready.\n",
              "        channel.send({})\n",
              "        if (message.buffers) {\n",
              "          for (const buffer of message.buffers) {\n",
              "            buffers.push(buffer);\n",
              "            downloaded += buffer.byteLength;\n",
              "            progress.value = downloaded;\n",
              "          }\n",
              "        }\n",
              "      }\n",
              "      const blob = new Blob(buffers, {type: 'application/binary'});\n",
              "      const a = document.createElement('a');\n",
              "      a.href = window.URL.createObjectURL(blob);\n",
              "      a.download = filename;\n",
              "      div.appendChild(a);\n",
              "      a.click();\n",
              "      div.remove();\n",
              "    }\n",
              "  "
            ]
          },
          "metadata": {}
        },
        {
          "output_type": "display_data",
          "data": {
            "text/plain": [
              "<IPython.core.display.Javascript object>"
            ],
            "application/javascript": [
              "download(\"download_ca1d142c-c74d-465b-937e-690e2bc6e61b\", \"HUVEC_15_dense.bed\", 21520680)"
            ]
          },
          "metadata": {}
        },
        {
          "output_type": "display_data",
          "data": {
            "text/plain": [
              "<IPython.core.display.Javascript object>"
            ],
            "application/javascript": [
              "\n",
              "    async function download(id, filename, size) {\n",
              "      if (!google.colab.kernel.accessAllowed) {\n",
              "        return;\n",
              "      }\n",
              "      const div = document.createElement('div');\n",
              "      const label = document.createElement('label');\n",
              "      label.textContent = `Downloading \"${filename}\": `;\n",
              "      div.appendChild(label);\n",
              "      const progress = document.createElement('progress');\n",
              "      progress.max = size;\n",
              "      div.appendChild(progress);\n",
              "      document.body.appendChild(div);\n",
              "\n",
              "      const buffers = [];\n",
              "      let downloaded = 0;\n",
              "\n",
              "      const channel = await google.colab.kernel.comms.open(id);\n",
              "      // Send a message to notify the kernel that we're ready.\n",
              "      channel.send({})\n",
              "\n",
              "      for await (const message of channel.messages) {\n",
              "        // Send a message to notify the kernel that we're ready.\n",
              "        channel.send({})\n",
              "        if (message.buffers) {\n",
              "          for (const buffer of message.buffers) {\n",
              "            buffers.push(buffer);\n",
              "            downloaded += buffer.byteLength;\n",
              "            progress.value = downloaded;\n",
              "          }\n",
              "        }\n",
              "      }\n",
              "      const blob = new Blob(buffers, {type: 'application/binary'});\n",
              "      const a = document.createElement('a');\n",
              "      a.href = window.URL.createObjectURL(blob);\n",
              "      a.download = filename;\n",
              "      div.appendChild(a);\n",
              "      a.click();\n",
              "      div.remove();\n",
              "    }\n",
              "  "
            ]
          },
          "metadata": {}
        },
        {
          "output_type": "display_data",
          "data": {
            "text/plain": [
              "<IPython.core.display.Javascript object>"
            ],
            "application/javascript": [
              "download(\"download_1c6dc5c9-0fc9-4211-b1fb-f70b5f87cf92\", \"HUVEC_15_RefSeqTES_neighborhood.png\", 34910)"
            ]
          },
          "metadata": {}
        },
        {
          "output_type": "display_data",
          "data": {
            "text/plain": [
              "<IPython.core.display.Javascript object>"
            ],
            "application/javascript": [
              "\n",
              "    async function download(id, filename, size) {\n",
              "      if (!google.colab.kernel.accessAllowed) {\n",
              "        return;\n",
              "      }\n",
              "      const div = document.createElement('div');\n",
              "      const label = document.createElement('label');\n",
              "      label.textContent = `Downloading \"${filename}\": `;\n",
              "      div.appendChild(label);\n",
              "      const progress = document.createElement('progress');\n",
              "      progress.max = size;\n",
              "      div.appendChild(progress);\n",
              "      document.body.appendChild(div);\n",
              "\n",
              "      const buffers = [];\n",
              "      let downloaded = 0;\n",
              "\n",
              "      const channel = await google.colab.kernel.comms.open(id);\n",
              "      // Send a message to notify the kernel that we're ready.\n",
              "      channel.send({})\n",
              "\n",
              "      for await (const message of channel.messages) {\n",
              "        // Send a message to notify the kernel that we're ready.\n",
              "        channel.send({})\n",
              "        if (message.buffers) {\n",
              "          for (const buffer of message.buffers) {\n",
              "            buffers.push(buffer);\n",
              "            downloaded += buffer.byteLength;\n",
              "            progress.value = downloaded;\n",
              "          }\n",
              "        }\n",
              "      }\n",
              "      const blob = new Blob(buffers, {type: 'application/binary'});\n",
              "      const a = document.createElement('a');\n",
              "      a.href = window.URL.createObjectURL(blob);\n",
              "      a.download = filename;\n",
              "      div.appendChild(a);\n",
              "      a.click();\n",
              "      div.remove();\n",
              "    }\n",
              "  "
            ]
          },
          "metadata": {}
        },
        {
          "output_type": "display_data",
          "data": {
            "text/plain": [
              "<IPython.core.display.Javascript object>"
            ],
            "application/javascript": [
              "download(\"download_9010143b-f556-4be4-9c67-ff156f9b951f\", \"transitions_15.png\", 24040)"
            ]
          },
          "metadata": {}
        },
        {
          "output_type": "display_data",
          "data": {
            "text/plain": [
              "<IPython.core.display.Javascript object>"
            ],
            "application/javascript": [
              "\n",
              "    async function download(id, filename, size) {\n",
              "      if (!google.colab.kernel.accessAllowed) {\n",
              "        return;\n",
              "      }\n",
              "      const div = document.createElement('div');\n",
              "      const label = document.createElement('label');\n",
              "      label.textContent = `Downloading \"${filename}\": `;\n",
              "      div.appendChild(label);\n",
              "      const progress = document.createElement('progress');\n",
              "      progress.max = size;\n",
              "      div.appendChild(progress);\n",
              "      document.body.appendChild(div);\n",
              "\n",
              "      const buffers = [];\n",
              "      let downloaded = 0;\n",
              "\n",
              "      const channel = await google.colab.kernel.comms.open(id);\n",
              "      // Send a message to notify the kernel that we're ready.\n",
              "      channel.send({})\n",
              "\n",
              "      for await (const message of channel.messages) {\n",
              "        // Send a message to notify the kernel that we're ready.\n",
              "        channel.send({})\n",
              "        if (message.buffers) {\n",
              "          for (const buffer of message.buffers) {\n",
              "            buffers.push(buffer);\n",
              "            downloaded += buffer.byteLength;\n",
              "            progress.value = downloaded;\n",
              "          }\n",
              "        }\n",
              "      }\n",
              "      const blob = new Blob(buffers, {type: 'application/binary'});\n",
              "      const a = document.createElement('a');\n",
              "      a.href = window.URL.createObjectURL(blob);\n",
              "      a.download = filename;\n",
              "      div.appendChild(a);\n",
              "      a.click();\n",
              "      div.remove();\n",
              "    }\n",
              "  "
            ]
          },
          "metadata": {}
        },
        {
          "output_type": "display_data",
          "data": {
            "text/plain": [
              "<IPython.core.display.Javascript object>"
            ],
            "application/javascript": [
              "download(\"download_352231ff-55a0-4079-ac7d-e19a5ce2fff0\", \"HUVEC_15_overlap.svg\", 159376)"
            ]
          },
          "metadata": {}
        },
        {
          "output_type": "display_data",
          "data": {
            "text/plain": [
              "<IPython.core.display.Javascript object>"
            ],
            "application/javascript": [
              "\n",
              "    async function download(id, filename, size) {\n",
              "      if (!google.colab.kernel.accessAllowed) {\n",
              "        return;\n",
              "      }\n",
              "      const div = document.createElement('div');\n",
              "      const label = document.createElement('label');\n",
              "      label.textContent = `Downloading \"${filename}\": `;\n",
              "      div.appendChild(label);\n",
              "      const progress = document.createElement('progress');\n",
              "      progress.max = size;\n",
              "      div.appendChild(progress);\n",
              "      document.body.appendChild(div);\n",
              "\n",
              "      const buffers = [];\n",
              "      let downloaded = 0;\n",
              "\n",
              "      const channel = await google.colab.kernel.comms.open(id);\n",
              "      // Send a message to notify the kernel that we're ready.\n",
              "      channel.send({})\n",
              "\n",
              "      for await (const message of channel.messages) {\n",
              "        // Send a message to notify the kernel that we're ready.\n",
              "        channel.send({})\n",
              "        if (message.buffers) {\n",
              "          for (const buffer of message.buffers) {\n",
              "            buffers.push(buffer);\n",
              "            downloaded += buffer.byteLength;\n",
              "            progress.value = downloaded;\n",
              "          }\n",
              "        }\n",
              "      }\n",
              "      const blob = new Blob(buffers, {type: 'application/binary'});\n",
              "      const a = document.createElement('a');\n",
              "      a.href = window.URL.createObjectURL(blob);\n",
              "      a.download = filename;\n",
              "      div.appendChild(a);\n",
              "      a.click();\n",
              "      div.remove();\n",
              "    }\n",
              "  "
            ]
          },
          "metadata": {}
        },
        {
          "output_type": "display_data",
          "data": {
            "text/plain": [
              "<IPython.core.display.Javascript object>"
            ],
            "application/javascript": [
              "download(\"download_46800a12-efe0-4462-a34d-dcff88cc0cae\", \"HUVEC_15_RefSeqTES_neighborhood.txt\", 2683)"
            ]
          },
          "metadata": {}
        },
        {
          "output_type": "display_data",
          "data": {
            "text/plain": [
              "<IPython.core.display.Javascript object>"
            ],
            "application/javascript": [
              "\n",
              "    async function download(id, filename, size) {\n",
              "      if (!google.colab.kernel.accessAllowed) {\n",
              "        return;\n",
              "      }\n",
              "      const div = document.createElement('div');\n",
              "      const label = document.createElement('label');\n",
              "      label.textContent = `Downloading \"${filename}\": `;\n",
              "      div.appendChild(label);\n",
              "      const progress = document.createElement('progress');\n",
              "      progress.max = size;\n",
              "      div.appendChild(progress);\n",
              "      document.body.appendChild(div);\n",
              "\n",
              "      const buffers = [];\n",
              "      let downloaded = 0;\n",
              "\n",
              "      const channel = await google.colab.kernel.comms.open(id);\n",
              "      // Send a message to notify the kernel that we're ready.\n",
              "      channel.send({})\n",
              "\n",
              "      for await (const message of channel.messages) {\n",
              "        // Send a message to notify the kernel that we're ready.\n",
              "        channel.send({})\n",
              "        if (message.buffers) {\n",
              "          for (const buffer of message.buffers) {\n",
              "            buffers.push(buffer);\n",
              "            downloaded += buffer.byteLength;\n",
              "            progress.value = downloaded;\n",
              "          }\n",
              "        }\n",
              "      }\n",
              "      const blob = new Blob(buffers, {type: 'application/binary'});\n",
              "      const a = document.createElement('a');\n",
              "      a.href = window.URL.createObjectURL(blob);\n",
              "      a.download = filename;\n",
              "      div.appendChild(a);\n",
              "      a.click();\n",
              "      div.remove();\n",
              "    }\n",
              "  "
            ]
          },
          "metadata": {}
        },
        {
          "output_type": "display_data",
          "data": {
            "text/plain": [
              "<IPython.core.display.Javascript object>"
            ],
            "application/javascript": [
              "download(\"download_c2a0c026-a929-469b-ac22-c0baa1dc0464\", \"emissions_15.png\", 22623)"
            ]
          },
          "metadata": {}
        },
        {
          "output_type": "display_data",
          "data": {
            "text/plain": [
              "<IPython.core.display.Javascript object>"
            ],
            "application/javascript": [
              "\n",
              "    async function download(id, filename, size) {\n",
              "      if (!google.colab.kernel.accessAllowed) {\n",
              "        return;\n",
              "      }\n",
              "      const div = document.createElement('div');\n",
              "      const label = document.createElement('label');\n",
              "      label.textContent = `Downloading \"${filename}\": `;\n",
              "      div.appendChild(label);\n",
              "      const progress = document.createElement('progress');\n",
              "      progress.max = size;\n",
              "      div.appendChild(progress);\n",
              "      document.body.appendChild(div);\n",
              "\n",
              "      const buffers = [];\n",
              "      let downloaded = 0;\n",
              "\n",
              "      const channel = await google.colab.kernel.comms.open(id);\n",
              "      // Send a message to notify the kernel that we're ready.\n",
              "      channel.send({})\n",
              "\n",
              "      for await (const message of channel.messages) {\n",
              "        // Send a message to notify the kernel that we're ready.\n",
              "        channel.send({})\n",
              "        if (message.buffers) {\n",
              "          for (const buffer of message.buffers) {\n",
              "            buffers.push(buffer);\n",
              "            downloaded += buffer.byteLength;\n",
              "            progress.value = downloaded;\n",
              "          }\n",
              "        }\n",
              "      }\n",
              "      const blob = new Blob(buffers, {type: 'application/binary'});\n",
              "      const a = document.createElement('a');\n",
              "      a.href = window.URL.createObjectURL(blob);\n",
              "      a.download = filename;\n",
              "      div.appendChild(a);\n",
              "      a.click();\n",
              "      div.remove();\n",
              "    }\n",
              "  "
            ]
          },
          "metadata": {}
        },
        {
          "output_type": "display_data",
          "data": {
            "text/plain": [
              "<IPython.core.display.Javascript object>"
            ],
            "application/javascript": [
              "download(\"download_ec8c3d1f-a567-4234-962c-f6574ad7ad23\", \"HUVEC_15_overlap.png\", 29627)"
            ]
          },
          "metadata": {}
        },
        {
          "output_type": "display_data",
          "data": {
            "text/plain": [
              "<IPython.core.display.Javascript object>"
            ],
            "application/javascript": [
              "\n",
              "    async function download(id, filename, size) {\n",
              "      if (!google.colab.kernel.accessAllowed) {\n",
              "        return;\n",
              "      }\n",
              "      const div = document.createElement('div');\n",
              "      const label = document.createElement('label');\n",
              "      label.textContent = `Downloading \"${filename}\": `;\n",
              "      div.appendChild(label);\n",
              "      const progress = document.createElement('progress');\n",
              "      progress.max = size;\n",
              "      div.appendChild(progress);\n",
              "      document.body.appendChild(div);\n",
              "\n",
              "      const buffers = [];\n",
              "      let downloaded = 0;\n",
              "\n",
              "      const channel = await google.colab.kernel.comms.open(id);\n",
              "      // Send a message to notify the kernel that we're ready.\n",
              "      channel.send({})\n",
              "\n",
              "      for await (const message of channel.messages) {\n",
              "        // Send a message to notify the kernel that we're ready.\n",
              "        channel.send({})\n",
              "        if (message.buffers) {\n",
              "          for (const buffer of message.buffers) {\n",
              "            buffers.push(buffer);\n",
              "            downloaded += buffer.byteLength;\n",
              "            progress.value = downloaded;\n",
              "          }\n",
              "        }\n",
              "      }\n",
              "      const blob = new Blob(buffers, {type: 'application/binary'});\n",
              "      const a = document.createElement('a');\n",
              "      a.href = window.URL.createObjectURL(blob);\n",
              "      a.download = filename;\n",
              "      div.appendChild(a);\n",
              "      a.click();\n",
              "      div.remove();\n",
              "    }\n",
              "  "
            ]
          },
          "metadata": {}
        },
        {
          "output_type": "display_data",
          "data": {
            "text/plain": [
              "<IPython.core.display.Javascript object>"
            ],
            "application/javascript": [
              "download(\"download_3ba81bf9-6181-40d8-946f-3b9a653c9c05\", \"transitions_15.txt\", 3603)"
            ]
          },
          "metadata": {}
        },
        {
          "output_type": "display_data",
          "data": {
            "text/plain": [
              "<IPython.core.display.Javascript object>"
            ],
            "application/javascript": [
              "\n",
              "    async function download(id, filename, size) {\n",
              "      if (!google.colab.kernel.accessAllowed) {\n",
              "        return;\n",
              "      }\n",
              "      const div = document.createElement('div');\n",
              "      const label = document.createElement('label');\n",
              "      label.textContent = `Downloading \"${filename}\": `;\n",
              "      div.appendChild(label);\n",
              "      const progress = document.createElement('progress');\n",
              "      progress.max = size;\n",
              "      div.appendChild(progress);\n",
              "      document.body.appendChild(div);\n",
              "\n",
              "      const buffers = [];\n",
              "      let downloaded = 0;\n",
              "\n",
              "      const channel = await google.colab.kernel.comms.open(id);\n",
              "      // Send a message to notify the kernel that we're ready.\n",
              "      channel.send({})\n",
              "\n",
              "      for await (const message of channel.messages) {\n",
              "        // Send a message to notify the kernel that we're ready.\n",
              "        channel.send({})\n",
              "        if (message.buffers) {\n",
              "          for (const buffer of message.buffers) {\n",
              "            buffers.push(buffer);\n",
              "            downloaded += buffer.byteLength;\n",
              "            progress.value = downloaded;\n",
              "          }\n",
              "        }\n",
              "      }\n",
              "      const blob = new Blob(buffers, {type: 'application/binary'});\n",
              "      const a = document.createElement('a');\n",
              "      a.href = window.URL.createObjectURL(blob);\n",
              "      a.download = filename;\n",
              "      div.appendChild(a);\n",
              "      a.click();\n",
              "      div.remove();\n",
              "    }\n",
              "  "
            ]
          },
          "metadata": {}
        },
        {
          "output_type": "display_data",
          "data": {
            "text/plain": [
              "<IPython.core.display.Javascript object>"
            ],
            "application/javascript": [
              "download(\"download_a6717c2c-37b0-4e4b-9c5f-e57781871432\", \"HUVEC_15_segments.bed\", 10005963)"
            ]
          },
          "metadata": {}
        }
      ]
    },
    {
      "cell_type": "code",
      "source": [
        "! touch HUVEC_15_dense_new.bed\n",
        "\n",
        "from google.colab import files\n",
        "import os\n",
        "\n",
        "states = ['Active_Promoter',\n",
        "          'Weak_Enhancer',\n",
        "          'Strong_Enhancer',\n",
        "          'Active_Promoter',\n",
        "          'Active_Promoter',\n",
        "          'Weak_Enhancer',\n",
        "          'Weak_Enhancer',\n",
        "          'Weak_Enhancer',\n",
        "          'Weak_Enhancer',\n",
        "          'Weak_Transcribed',\n",
        "          'Weak_Transcribed',\n",
        "          'Weak_Transcribed',\n",
        "          'Repressed',\n",
        "          'Heterochromatin',\n",
        "          'Heterochromatin']\n",
        "\n",
        "with open(f'data/HUVEC_15_dense.bed', 'r') as old_f:\n",
        "  with open(f'HUVEC_15_dense_new.bed', 'a') as new_f:\n",
        "    lines = old_f.readlines()\n",
        "    new_f.write(lines[0])\n",
        "    for line in lines[1:]:\n",
        "        l = line.split('\\t')\n",
        "        l[3] = l[3] + '_' + states[int(l[3]) - 1]\n",
        "        new_f.write('\\t'.join(l))\n",
        "\n",
        "files.download('HUVEC_15_dense_new.bed')"
      ],
      "metadata": {
        "id": "zz-6cS6Dolqu",
        "colab": {
          "base_uri": "https://localhost:8080/",
          "height": 17
        },
        "outputId": "7e909075-5f5f-4fb1-e51c-4c53e0013f63"
      },
      "execution_count": 26,
      "outputs": [
        {
          "output_type": "display_data",
          "data": {
            "text/plain": [
              "<IPython.core.display.Javascript object>"
            ],
            "application/javascript": [
              "\n",
              "    async function download(id, filename, size) {\n",
              "      if (!google.colab.kernel.accessAllowed) {\n",
              "        return;\n",
              "      }\n",
              "      const div = document.createElement('div');\n",
              "      const label = document.createElement('label');\n",
              "      label.textContent = `Downloading \"${filename}\": `;\n",
              "      div.appendChild(label);\n",
              "      const progress = document.createElement('progress');\n",
              "      progress.max = size;\n",
              "      div.appendChild(progress);\n",
              "      document.body.appendChild(div);\n",
              "\n",
              "      const buffers = [];\n",
              "      let downloaded = 0;\n",
              "\n",
              "      const channel = await google.colab.kernel.comms.open(id);\n",
              "      // Send a message to notify the kernel that we're ready.\n",
              "      channel.send({})\n",
              "\n",
              "      for await (const message of channel.messages) {\n",
              "        // Send a message to notify the kernel that we're ready.\n",
              "        channel.send({})\n",
              "        if (message.buffers) {\n",
              "          for (const buffer of message.buffers) {\n",
              "            buffers.push(buffer);\n",
              "            downloaded += buffer.byteLength;\n",
              "            progress.value = downloaded;\n",
              "          }\n",
              "        }\n",
              "      }\n",
              "      const blob = new Blob(buffers, {type: 'application/binary'});\n",
              "      const a = document.createElement('a');\n",
              "      a.href = window.URL.createObjectURL(blob);\n",
              "      a.download = filename;\n",
              "      div.appendChild(a);\n",
              "      a.click();\n",
              "      div.remove();\n",
              "    }\n",
              "  "
            ]
          },
          "metadata": {}
        },
        {
          "output_type": "display_data",
          "data": {
            "text/plain": [
              "<IPython.core.display.Javascript object>"
            ],
            "application/javascript": [
              "download(\"download_70dd996a-f308-41e7-a9a1-64fb3ef32dca\", \"HUVEC_15_dense_new.bed\", 81486915)"
            ]
          },
          "metadata": {}
        }
      ]
    }
  ]
}